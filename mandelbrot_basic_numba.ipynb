{
 "cells": [
  {
   "cell_type": "markdown",
   "metadata": {},
   "source": [
    "# A Numba Example"
   ]
  },
  {
   "cell_type": "code",
   "execution_count": 8,
   "metadata": {},
   "outputs": [],
   "source": [
    "import numpy as np\n",
    "from numba import vectorize"
   ]
  },
  {
   "cell_type": "code",
   "execution_count": 10,
   "metadata": {},
   "outputs": [
    {
     "name": "stdout",
     "output_type": "stream",
     "text": [
      "[2. 2. 2. ... 2. 2. 2.]\n"
     ]
    }
   ],
   "source": [
    "@vectorize(['float32(float32, float32)'], target='cuda')\n",
    "def Add(a, b):\n",
    "    return a + b\n",
    "\n",
    "# Initialize arrays\n",
    "N = 100000\n",
    "A = np.ones(N, dtype=np.float32)\n",
    "B = np.ones(A.shape, dtype=A.dtype)\n",
    "C = np.empty_like(A, dtype=A.dtype)\n",
    "\n",
    "# Add arrays on GPU\n",
    "C = Add(A, B)\n",
    "print(C)"
   ]
  },
  {
   "cell_type": "markdown",
   "metadata": {},
   "source": [
    "# Massive Parallelism with CUDA Python"
   ]
  },
  {
   "cell_type": "code",
   "execution_count": 23,
   "metadata": {},
   "outputs": [
    {
     "name": "stdout",
     "output_type": "stream",
     "text": [
      "Mandelbrot created on GPU in 0.215609 s\n"
     ]
    },
    {
     "data": {
      "text/plain": [
       "<matplotlib.image.AxesImage at 0x7fdf4cca7090>"
      ]
     },
     "execution_count": 23,
     "metadata": {},
     "output_type": "execute_result"
    },
    {
     "data": {
      "image/png": "[encoded data removed]",
      "text/plain": [
       "<Figure size 432x288 with 1 Axes>"
      ]
     },
     "metadata": {
      "needs_background": "light"
     },
     "output_type": "display_data"
    }
   ],
   "source": [
    "from numba import cuda\n",
    "import matplotlib.pyplot as plt\n",
    "\n",
    "@cuda.jit(device=True)\n",
    "def mandel(x, y, max_iters):\n",
    "  \"\"\"\n",
    "  Given the real and imaginary parts of a complex number,\n",
    "  determine if it is a candidate for membership in the Mandelbrot\n",
    "  set given a fixed number of iterations.\n",
    "  \"\"\"\n",
    "  c = complex(x, y)\n",
    "  z = 0.0j\n",
    "  for i in range(max_iters):\n",
    "    z = z*z + c\n",
    "    if (z.real*z.real + z.imag*z.imag) >= 4:\n",
    "        return i\n",
    "\n",
    "  return max_iters\n",
    "\n",
    "@cuda.jit\n",
    "def mandel_kernel(min_x, max_x, min_y, max_y, image, iters):\n",
    "  height = image.shape[0]\n",
    "  width = image.shape[1]\n",
    "\n",
    "  pixel_size_x = (max_x - min_x) / width\n",
    "  pixel_size_y = (max_y - min_y) / height\n",
    "\n",
    "  startX = cuda.blockDim.x * cuda.blockIdx.x + cuda.threadIdx.x\n",
    "  startY = cuda.blockDim.y * cuda.blockIdx.y + cuda.threadIdx.y\n",
    "  gridX = cuda.gridDim.x * cuda.blockDim.x;\n",
    "  gridY = cuda.gridDim.y * cuda.blockDim.y;\n",
    "\n",
    "  for x in range(startX, width, gridX):\n",
    "    real = min_x + x * pixel_size_x\n",
    "    for y in range(startY, height, gridY):\n",
    "      imag = min_y + y * pixel_size_y \n",
    "      image[y, x] = mandel(real, imag, iters)\n",
    "\n",
    "gimage = np.zeros((1024, 1536), dtype = np.uint8)\n",
    "blockdim = (32, 8)\n",
    "griddim = (32,16)\n",
    "\n",
    "start = timer()\n",
    "d_image = cuda.to_device(gimage)\n",
    "mandel_kernel[griddim, blockdim](-2.0, 1.0, -1.0, 1.0, d_image, 20) \n",
    "d_image.to_host()\n",
    "dt = timer() - start\n",
    "\n",
    "print (\"Mandelbrot created on GPU in %f s\" % dt)\n",
    "\n",
    "plt.imshow(gimage)"
   ]
  },
  {
   "cell_type": "markdown",
   "metadata": {},
   "source": [
    "# Using basic numba functionalities (Just @jit it!)"
   ]
  },
  {
   "cell_type": "code",
   "execution_count": 31,
   "metadata": {},
   "outputs": [],
   "source": [
    "import os\n",
    "import numpy as np # Numba supports many functions from numpy (https://numba.pydata.org/numba-doc/dev/reference/numpysupported.html)\n",
    "from numba import jit, njit, vectorize, cuda\n",
    "import math # Numba supports many functions from math (http://numba.pydata.org/numba-doc/0.17.0/reference/pysupported.html)\n",
    "\n",
    "import matplotlib.pyplot as plt\n",
    "import cProfile"
   ]
  },
  {
   "cell_type": "code",
   "execution_count": 34,
   "metadata": {},
   "outputs": [],
   "source": [
    "a = np.ones((1, 100), dtype=np.float64)\n",
    "b = np.ones((100, 1), dtype=np.float64)\n"
   ]
  },
  {
   "cell_type": "code",
   "execution_count": 35,
   "metadata": {},
   "outputs": [],
   "source": [
    "# simple python function \n",
    "\n",
    "def func(a, b):\n",
    "  for i in range(100000):\n",
    "    constant = math.pow((a@b)[0][0], 1./2)/math.exp((a@b)[0][0]/1000)\n",
    "    a = np.array([[constant]*100], dtype=np.float64)\n",
    "  return a"
   ]
  },
  {
   "cell_type": "code",
   "execution_count": 36,
   "metadata": {},
   "outputs": [
    {
     "name": "stdout",
     "output_type": "stream",
     "text": [
      "813 ms ± 2.13 ms per loop (mean ± std. dev. of 7 runs, 1 loop each)\n"
     ]
    }
   ],
   "source": [
    "%timeit res = func(a, b)"
   ]
  },
  {
   "cell_type": "code",
   "execution_count": 54,
   "metadata": {},
   "outputs": [
    {
     "name": "stdout",
     "output_type": "stream",
     "text": [
      "         300004 function calls in 0.885 seconds\n",
      "\n",
      "   Ordered by: standard name\n",
      "\n",
      "   ncalls  tottime  percall  cumtime  percall filename:lineno(function)\n",
      "        1    0.442    0.442    0.885    0.885 <ipython-input-35-ddff08827d39>:3(func)\n",
      "        1    0.000    0.000    0.885    0.885 <string>:1(<module>)\n",
      "        1    0.000    0.000    0.885    0.885 {built-in method builtins.exec}\n",
      "   100000    0.011    0.000    0.011    0.000 {built-in method math.exp}\n",
      "   100000    0.019    0.000    0.019    0.000 {built-in method math.pow}\n",
      "   100000    0.414    0.000    0.414    0.000 {built-in method numpy.array}\n",
      "        1    0.000    0.000    0.000    0.000 {method 'disable' of '_lsprof.Profiler' objects}\n",
      "\n",
      "\n"
     ]
    }
   ],
   "source": [
    "cProfile.run('func(a, b)')"
   ]
  },
  {
   "cell_type": "code",
   "execution_count": 38,
   "metadata": {},
   "outputs": [],
   "source": [
    "#\n",
    "# Numba with nopython = True\n",
    "#\n",
    "\n",
    "@njit      # or @jit(nopython=True)\n",
    "def njit_func(a, b):\n",
    "  for i in range(100000):\n",
    "    constant = math.pow((a@b)[0][0], 1./2)/math.exp((a@b)[0][0]/1000)\n",
    "    a = np.array([[constant]*100], dtype=np.float64)\n",
    "  return a"
   ]
  },
  {
   "cell_type": "code",
   "execution_count": 55,
   "metadata": {},
   "outputs": [
    {
     "name": "stdout",
     "output_type": "stream",
     "text": [
      "72.3 ms ± 109 µs per loop (mean ± std. dev. of 7 runs, 10 loops each)\n",
      "----------------------------\n",
      "         4 function calls in 0.073 seconds\n",
      "\n",
      "   Ordered by: standard name\n",
      "\n",
      "   ncalls  tottime  percall  cumtime  percall filename:lineno(function)\n",
      "        1    0.073    0.073    0.073    0.073 <ipython-input-38-e96d535033a8>:5(njit_func)\n",
      "        1    0.000    0.000    0.073    0.073 <string>:1(<module>)\n",
      "        1    0.000    0.000    0.073    0.073 {built-in method builtins.exec}\n",
      "        1    0.000    0.000    0.000    0.000 {method 'disable' of '_lsprof.Profiler' objects}\n",
      "\n",
      "\n"
     ]
    }
   ],
   "source": [
    "%timeit res = njit_func(a, b)\n",
    "print(\"----------------------------\")\n",
    "cProfile.run('njit_func(a, b)')"
   ]
  },
  {
   "cell_type": "code",
   "execution_count": 43,
   "metadata": {
    "collapsed": true
   },
   "outputs": [
    {
     "name": "stderr",
     "output_type": "stream",
     "text": [
      "<ipython-input-43-5639fda0e558>:5: NumbaWarning: \n",
      "Compilation is falling back to object mode WITH looplifting enabled because Function \"jit_func\" failed type inference due to: Invalid use of Function(<built-in function matmul>) with argument(s) of type(s): (float64, float64)\n",
      " * parameterized\n",
      "In definition 0:\n",
      "    All templates rejected with literals.\n",
      "In definition 1:\n",
      "    All templates rejected without literals.\n",
      "This error is usually caused by passing an argument of a type that is unsupported by the named function.\n",
      "[1] During: typing of intrinsic-call at <ipython-input-43-5639fda0e558> (8)\n",
      "\n",
      "File \"<ipython-input-43-5639fda0e558>\", line 8:\n",
      "def jit_func(a, b):\n",
      "    <source elided>\n",
      "    for i in range(100000):\n",
      "        constant = math.pow((a@b)[0][0], 1./2)/math.exp((a@b)[0][0]/1000)\n",
      "        ^\n",
      "\n",
      "  @jit('float64(float64, float64)')\n",
      "<ipython-input-43-5639fda0e558>:5: NumbaWarning: \n",
      "Compilation is falling back to object mode WITHOUT looplifting enabled because Function \"jit_func\" failed type inference due to: cannot determine Numba type of <class 'numba.dispatcher.LiftedLoop'>\n",
      "\n",
      "File \"<ipython-input-43-5639fda0e558>\", line 7:\n",
      "def jit_func(a, b):\n",
      "    for i in range(100000):\n",
      "    ^\n",
      "\n",
      "  @jit('float64(float64, float64)')\n",
      "/home/nybsys/anaconda3/envs/nbh/lib/python3.7/site-packages/numba/object_mode_passes.py:178: NumbaWarning: Function \"jit_func\" was compiled in object mode without forceobj=True, but has lifted loops.\n",
      "\n",
      "File \"<ipython-input-43-5639fda0e558>\", line 6:\n",
      "@jit('float64(float64, float64)')\n",
      "def jit_func(a, b):\n",
      "^\n",
      "\n",
      "  state.func_ir.loc))\n",
      "/home/nybsys/anaconda3/envs/nbh/lib/python3.7/site-packages/numba/object_mode_passes.py:187: NumbaDeprecationWarning: \n",
      "Fall-back from the nopython compilation path to the object mode compilation path has been detected, this is deprecated behaviour.\n",
      "\n",
      "For more information visit http://numba.pydata.org/numba-doc/latest/reference/deprecation.html#deprecation-of-object-mode-fall-back-behaviour-when-using-jit\n",
      "\n",
      "File \"<ipython-input-43-5639fda0e558>\", line 6:\n",
      "@jit('float64(float64, float64)')\n",
      "def jit_func(a, b):\n",
      "^\n",
      "\n",
      "  warnings.warn(errors.NumbaDeprecationWarning(msg, state.func_ir.loc))\n"
     ]
    }
   ],
   "source": [
    "#\n",
    "# Basic Numba compiler with type information provided\n",
    "#\n",
    "\n",
    "@jit('float64(float64, float64)')\n",
    "def jit_func(a, b):\n",
    "    for i in range(100000):\n",
    "        constant = math.pow((a@b)[0][0], 1./2)/math.exp((a@b)[0][0]/1000)\n",
    "        a = np.array([[constant]*100], dtype=np.float64)\n",
    "    return a"
   ]
  },
  {
   "cell_type": "code",
   "execution_count": 56,
   "metadata": {
    "scrolled": true
   },
   "outputs": [
    {
     "name": "stdout",
     "output_type": "stream",
     "text": [
      "72 ms ± 249 µs per loop (mean ± std. dev. of 7 runs, 10 loops each)\n",
      "----------------------------\n",
      "         104 function calls (99 primitive calls) in 0.073 seconds\n",
      "\n",
      "   Ordered by: standard name\n",
      "\n",
      "   ncalls  tottime  percall  cumtime  percall filename:lineno(function)\n",
      "        2    0.000    0.000    0.000    0.000 <frozen importlib._bootstrap>:1009(_handle_fromlist)\n",
      "        2    0.000    0.000    0.000    0.000 <frozen importlib._bootstrap>:416(parent)\n",
      "      2/1    0.072    0.036    0.072    0.072 <ipython-input-43-5639fda0e558>:5(jit_func)\n",
      "        1    0.000    0.000    0.073    0.073 <string>:1(<module>)\n",
      "        2    0.000    0.000    0.000    0.000 <string>:1(__new__)\n",
      "        4    0.000    0.000    0.000    0.000 abc.py:137(__instancecheck__)\n",
      "        2    0.000    0.000    0.000    0.000 abstract.py:109(__repr__)\n",
      "      8/6    0.000    0.000    0.000    0.000 abstract.py:112(__hash__)\n",
      "        2    0.000    0.000    0.000    0.000 abstract.py:115(__eq__)\n",
      "        2    0.000    0.000    0.000    0.000 abstract.py:42(_intern)\n",
      "        2    0.000    0.000    0.000    0.000 abstract.py:54(__call__)\n",
      "        2    0.000    0.000    0.000    0.000 abstract.py:87(__init__)\n",
      "        6    0.000    0.000    0.000    0.000 abstract.py:90(key)\n",
      "        2    0.000    0.000    0.000    0.000 common.py:49(__init__)\n",
      "        1    0.000    0.000    0.000    0.000 dispatcher.py:265(nopython_signatures)\n",
      "        1    0.000    0.000    0.000    0.000 dispatcher.py:267(<listcomp>)\n",
      "        1    0.000    0.000    0.000    0.000 dispatcher.py:576(_search_new_conversions)\n",
      "        1    0.000    0.000    0.000    0.000 dispatcher.py:584(<listcomp>)\n",
      "        2    0.000    0.000    0.000    0.000 dispatcher.py:595(typeof_pyval)\n",
      "        2    0.000    0.000    0.000    0.000 functools.py:781(dispatch)\n",
      "        2    0.000    0.000    0.000    0.000 functools.py:835(wrapper)\n",
      "        2    0.000    0.000    0.000    0.000 misc.py:49(unliteral)\n",
      "        2    0.000    0.000    0.000    0.000 npytypes.py:399(__init__)\n",
      "        6    0.000    0.000    0.000    0.000 npytypes.py:434(key)\n",
      "        2    0.000    0.000    0.000    0.000 numpy_support.py:216(map_layout)\n",
      "        2    0.000    0.000    0.000    0.000 numpy_support.py:85(from_dtype)\n",
      "        2    0.000    0.000    0.000    0.000 typeof.py:215(_typeof_ndarray)\n",
      "        2    0.000    0.000    0.000    0.000 typeof.py:24(typeof)\n",
      "        2    0.000    0.000    0.000    0.000 weakref.py:395(__getitem__)\n",
      "        2    0.000    0.000    0.000    0.000 {built-in method __new__ of type object at 0x559c710e7240}\n",
      "        4    0.000    0.000    0.000    0.000 {built-in method _abc._abc_instancecheck}\n",
      "        2    0.000    0.000    0.000    0.000 {built-in method _abc.get_cache_token}\n",
      "        1    0.000    0.000    0.073    0.073 {built-in method builtins.exec}\n",
      "        4    0.000    0.000    0.000    0.000 {built-in method builtins.getattr}\n",
      "        4    0.000    0.000    0.000    0.000 {built-in method builtins.hasattr}\n",
      "      8/6    0.000    0.000    0.000    0.000 {built-in method builtins.hash}\n",
      "        4    0.000    0.000    0.000    0.000 {built-in method builtins.isinstance}\n",
      "        1    0.000    0.000    0.000    0.000 {method 'disable' of '_lsprof.Profiler' objects}\n",
      "        2    0.000    0.000    0.000    0.000 {method 'get' of 'dict' objects}\n",
      "        2    0.000    0.000    0.000    0.000 {method 'rpartition' of 'str' objects}\n",
      "        1    0.000    0.000    0.000    0.000 {method 'values' of 'collections.OrderedDict' objects}\n",
      "\n",
      "\n"
     ]
    }
   ],
   "source": [
    "%timeit res = jit_func(a, b)\n",
    "print(\"----------------------------\")\n",
    "cProfile.run('jit_func(a, b)')"
   ]
  },
  {
   "cell_type": "code",
   "execution_count": 57,
   "metadata": {},
   "outputs": [
    {
     "data": {
      "text/plain": [
       "Text(0.5, 0, 'Method')"
      ]
     },
     "execution_count": 57,
     "metadata": {},
     "output_type": "execute_result"
    },
    {
     "data": {
      "image/png": "[encoded data removed]",
      "text/plain": [
       "<Figure size 432x288 with 1 Axes>"
      ]
     },
     "metadata": {
      "needs_background": "light"
     },
     "output_type": "display_data"
    }
   ],
   "source": [
    "fig, ax = plt.subplots(1, 1)\n",
    "ax.plot([\"a\", \"b\", \"c\"], [0.885, 0.073, 0.073], \"-o\") # Results without caching\n",
    "ax.set_xticklabels([\"pyFunc\", \"Jit\", \"Njit\"])\n",
    "fig.suptitle(\"Basic Numba Functionalities\", fontsize=17)\n",
    "ax.set_ylabel(\"Time (s)\")\n",
    "ax.set_xlabel(\"Method\")"
   ]
  },
  {
   "cell_type": "markdown",
   "metadata": {},
   "source": [
    "# The @vectorize wrapper"
   ]
  },
  {
   "cell_type": "markdown",
   "metadata": {},
   "source": [
    "### Simple Vectorize "
   ]
  },
  {
   "cell_type": "code",
   "execution_count": 58,
   "metadata": {},
   "outputs": [],
   "source": [
    "#\n",
    "# Making Ufuncs with Numba.\n",
    "#\n",
    "\n",
    "@vectorize\n",
    "def vec_func(a, b):\n",
    "  # Now we can pass arrays too, and operate\n",
    "  # inside like they are scalars:\n",
    "  for i in range(100000):\n",
    "    a = math.pow(a*b, 1./2)/math.exp(a*b/1000)\n",
    "  return a\n",
    "# This is similar to functions before, for comparison. But...\n",
    "\n"
   ]
  },
  {
   "cell_type": "code",
   "execution_count": 59,
   "metadata": {},
   "outputs": [
    {
     "name": "stdout",
     "output_type": "stream",
     "text": [
      "26.5 s ± 64.6 ms per loop (mean ± std. dev. of 7 runs, 1 loop each)\n"
     ]
    }
   ],
   "source": [
    "%timeit res = vec_func(a, b)\n"
   ]
  },
  {
   "cell_type": "code",
   "execution_count": 62,
   "metadata": {},
   "outputs": [],
   "source": [
    "#\n",
    "# This is slow because previously we were doing some\n",
    "# operations on 1,00,000 scalars obtained by multiplying\n",
    "# (a@b), but now we are multiplying individual elements \n",
    "# of a and b for 1,00,000 times. Also numba is taking care\n",
    "# of broadcasting too. So, in this case we are applying this\n",
    "# loop for 100 times.\n",
    "#\n",
    "#res.shape # Previously it was (1, 100)\n",
    "\n"
   ]
  },
  {
   "cell_type": "markdown",
   "metadata": {},
   "source": [
    "### Vectorize Parallel"
   ]
  },
  {
   "cell_type": "code",
   "execution_count": 63,
   "metadata": {},
   "outputs": [],
   "source": [
    "@vectorize(['float64(float64, float64)'], target='parallel')\n",
    "def vecParallel_func(a, b):\n",
    "  for i in range(100000):\n",
    "    a = math.pow(a*b, 1./2)/math.exp(a*b/1000)\n",
    "  return a"
   ]
  },
  {
   "cell_type": "code",
   "execution_count": 64,
   "metadata": {},
   "outputs": [
    {
     "name": "stdout",
     "output_type": "stream",
     "text": [
      "3.46 s ± 18.9 ms per loop (mean ± std. dev. of 7 runs, 1 loop each)\n"
     ]
    }
   ],
   "source": [
    "%timeit res = vecParallel_func(a, b)"
   ]
  },
  {
   "cell_type": "code",
   "execution_count": 65,
   "metadata": {},
   "outputs": [
    {
     "name": "stdout",
     "output_type": "stream",
     "text": [
      "(100, 100)\n"
     ]
    }
   ],
   "source": [
    "res = vecParallel_func(a, b)\n",
    "print(res.shape)"
   ]
  },
  {
   "cell_type": "markdown",
   "metadata": {},
   "source": [
    "### Vectorize Cuda "
   ]
  },
  {
   "cell_type": "code",
   "execution_count": 66,
   "metadata": {},
   "outputs": [],
   "source": [
    "@vectorize(['float64(float64, float64)'], target='cuda')\n",
    "def vecCuda_func(a, b):\n",
    "  for i in range(100000):\n",
    "    a = math.pow(a*b, 1./2)/math.exp(a*b/1000)\n",
    "  return a"
   ]
  },
  {
   "cell_type": "code",
   "execution_count": 67,
   "metadata": {},
   "outputs": [
    {
     "name": "stdout",
     "output_type": "stream",
     "text": [
      "2.53 s ± 857 µs per loop (mean ± std. dev. of 7 runs, 1 loop each)\n"
     ]
    }
   ],
   "source": [
    "%timeit res = vecCuda_func(a, b)"
   ]
  },
  {
   "cell_type": "code",
   "execution_count": 71,
   "metadata": {},
   "outputs": [
    {
     "data": {
      "text/plain": [
       "Text(0.5, 0, 'Method')"
      ]
     },
     "execution_count": 71,
     "metadata": {},
     "output_type": "execute_result"
    },
    {
     "data": {
      "image/png": "[encoded data removed]",
      "text/plain": [
       "<Figure size 432x288 with 1 Axes>"
      ]
     },
     "metadata": {
      "needs_background": "light"
     },
     "output_type": "display_data"
    }
   ],
   "source": [
    "fig, ax = plt.subplots(1, 1)\n",
    "ax.plot([\"a\", \"b\", \"c\"], [26.5, 3.46, 2.53], \"-o\")\n",
    "ax.set_xticklabels([\"Vectorize\", \"Vectorize Parallel\", \"Vectorize Cuda\"])\n",
    "fig.suptitle(\"@vectorize wrapper\", fontsize=17)\n",
    "ax.set_ylabel(\"Time (sec)\")\n",
    "ax.set_xlabel(\"Method\")"
   ]
  },
  {
   "cell_type": "markdown",
   "metadata": {},
   "source": [
    "### Running your functions on GPU "
   ]
  },
  {
   "cell_type": "code",
   "execution_count": 88,
   "metadata": {},
   "outputs": [],
   "source": [
    "@cuda.jit\n",
    "def cudaKernal_func(a, b, result): # cuda.jit does not return result yet\n",
    "  pos = cuda.grid(1)\n",
    "  if (pos < a.shape[1]) and (pos < b.shape[0]):\n",
    "    for i in range(100000):\n",
    "      result[pos] = math.exp(a[0][pos]*b[pos][0])"
   ]
  },
  {
   "cell_type": "code",
   "execution_count": 89,
   "metadata": {},
   "outputs": [],
   "source": [
    "result = np.zeros((100,), dtype=np.float64)"
   ]
  },
  {
   "cell_type": "code",
   "execution_count": 90,
   "metadata": {},
   "outputs": [
    {
     "name": "stdout",
     "output_type": "stream",
     "text": [
      "85.1 ms ± 9.82 ms per loop (mean ± std. dev. of 7 runs, 1 loop each)\n"
     ]
    }
   ],
   "source": [
    "threadsperblock = 32\n",
    "blockspergrid = (100 + 31) // 32 # blockspergrid = (array.size + (threadsperblock - 1)) // threadsperblock\n",
    "\n",
    "%timeit cudaKernal_func[threadsperblock, blockspergrid](a, b, result)"
   ]
  },
  {
   "cell_type": "code",
   "execution_count": 92,
   "metadata": {},
   "outputs": [],
   "source": [
    "#\n",
    "# Here, we have only used it for 1D arrays. You can use it for any Tensor. For eg:\n",
    "# For 2D array operations you would have used: x, y = cuda.grid(2)\n",
    "#"
   ]
  },
  {
   "cell_type": "code",
   "execution_count": 152,
   "metadata": {},
   "outputs": [],
   "source": [
    "@cuda.jit(device=True)\n",
    "def cudaDevice_func(a, b):\n",
    "    for i in range(100000):\n",
    "        a = math.exp(a*b)\n",
    "    return a"
   ]
  },
  {
   "cell_type": "code",
   "execution_count": 153,
   "metadata": {},
   "outputs": [],
   "source": [
    "@cuda.jit\n",
    "def cudaKernal_func2(a, b, result): # cuda.jit does not return result yet\n",
    "    pos = cuda.grid(1)\n",
    "    if (pos < a.shape[1]) and (pos < b.shape[0]):\n",
    "        result[pos] = cudaDevice_func(a[0][pos], b[pos][0])\n"
   ]
  },
  {
   "cell_type": "code",
   "execution_count": 154,
   "metadata": {},
   "outputs": [
    {
     "name": "stdout",
     "output_type": "stream",
     "text": [
      "53.1 ms ± 38.7 µs per loop (mean ± std. dev. of 7 runs, 10 loops each)\n"
     ]
    }
   ],
   "source": [
    "%timeit cudaKernal_func2[threadsperblock, blockspergrid](a, b, result)"
   ]
  },
  {
   "cell_type": "code",
   "execution_count": null,
   "metadata": {},
   "outputs": [],
   "source": []
  },
  {
   "cell_type": "markdown",
   "metadata": {},
   "source": [
    "# Reference\n",
    "\n",
    "Link - https://towardsdatascience.com/speed-up-your-algorithms-part-2-numba-293e554c5cc1"
   ]
  }
 ],
 "metadata": {
  "kernelspec": {
   "display_name": "Python 3",
   "language": "python",
   "name": "python3"
  },
  "language_info": {
   "codemirror_mode": {
    "name": "ipython",
    "version": 3
   },
   "file_extension": ".py",
   "mimetype": "text/x-python",
   "name": "python",
   "nbconvert_exporter": "python",
   "pygments_lexer": "ipython3",
   "version": "3.7.5"
  }
 },
 "nbformat": 4,
 "nbformat_minor": 2
}
